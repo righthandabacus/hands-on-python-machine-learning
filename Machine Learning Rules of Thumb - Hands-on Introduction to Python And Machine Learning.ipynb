{
 "cells": [
  {
   "cell_type": "markdown",
   "metadata": {},
   "source": [
    "# Hands-on Introduction to Python And Machine Learning"
   ]
  },
  {
   "cell_type": "markdown",
   "metadata": {},
   "source": [
    "Instructor: Tak-Kei Lam\n",
    "\n",
    "(Readers are assumed to have a little bit programming background.)\n"
   ]
  },
  {
   "cell_type": "markdown",
   "metadata": {},
   "source": [
    "# Training a machine learning model is not easy\n",
    ">>  Being a machine trainer is as least as hard as being a Pokemon trainer.\n",
    "\n",
    "How a model performs depends on the following factors:\n",
    "1. Choice of the methods\n",
    "2. Choice of the training data and their quality\n",
    "3. Training methods, time and stopping conditions\n",
    "4. The model's parameters, if any\n",
    "5. The nature of the problem"
   ]
  },
  {
   "cell_type": "markdown",
   "metadata": {},
   "source": [
    "\"In general, we want to train a model that is general enough but not over general.\" a wise man once said. We want a general model so that unseen data can be handled properly; we want a not-too-general model so that its performance(accuracy) is reasonable."
   ]
  },
  {
   "cell_type": "markdown",
   "metadata": {},
   "source": [
    "#### Overfit\n",
    "If a model is not general enough, it is said to be **overfit**. It means the machine learning has modelled the *training data* too well. This can usually be detected when the accuracy of the model is high when dealing with training data, but low for validation data or test data."
   ]
  },
  {
   "cell_type": "markdown",
   "metadata": {},
   "source": [
    "#### Underfit\n",
    "If a model is over general, which means it can model neither the training data nor test data well, it is said to be **underfit**. "
   ]
  },
  {
   "cell_type": "markdown",
   "metadata": {},
   "source": [
    "Ideally, we want to have a model that is not overfit or underfit. It should be something in between."
   ]
  },
  {
   "cell_type": "markdown",
   "metadata": {},
   "source": [
    "# Recommendations\n",
    "1.  Have a clear understanding about  the properties of every machine learning algorithm\n",
    "    - Is the algorithm suitable for the problem domain?\n",
    "    - How to prevent overfitting? In neural network, we can implement *dropout*. How about other algorithms?\n",
    "2. Always record the performance of the models\n",
    "    - To detect underfit/overfit\n",
    "3. Never give up\n",
    "    - It is going to be an extremely  loooooooooooooooooooooooooooooong journey from data collection to model optimization..."
   ]
  }
 ],
 "metadata": {
  "kernelspec": {
   "display_name": "Python 3",
   "language": "python",
   "name": "python3"
  },
  "language_info": {
   "codemirror_mode": {
    "name": "ipython",
    "version": 3
   },
   "file_extension": ".py",
   "mimetype": "text/x-python",
   "name": "python",
   "nbconvert_exporter": "python",
   "pygments_lexer": "ipython3",
   "version": "3.6.5"
  }
 },
 "nbformat": 4,
 "nbformat_minor": 2
}
