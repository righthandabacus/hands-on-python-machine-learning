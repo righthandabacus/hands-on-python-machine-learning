{
 "cells": [
  {
   "cell_type": "markdown",
   "metadata": {},
   "source": [
    "# Hands-on Introduction to Python And Machine Learning"
   ]
  },
  {
   "cell_type": "markdown",
   "metadata": {},
   "source": [
    "Instructor: Tak-Kei Lam\n",
    "\n",
    "(Readers are assumed to have a little bit programming background.)\n"
   ]
  },
  {
   "cell_type": "markdown",
   "metadata": {},
   "source": [
    "# What is machine learning?"
   ]
  },
  {
   "cell_type": "markdown",
   "metadata": {},
   "source": [
    "Machine learning is about \"teaching\" machines to learn something. It is about training algorithms to model data so that the computer is able to classify data, to cluster data, and to predict data automatically.\n",
    "\n",
    "What are machine learning algorithms exactly? They are actually some predefined computer procedures that can extract the characteristics or properties or *features* of the data. Once the features of the data can be extracted, we can virtually describe them, check the similarity among them, or even make some predictions. All these depend on maths and statistics! (We will try to omit the difficult maths in this course.) Statistics is the major tool in machine learning indeed. Therefore some researchers suggested *statistical computing* as an alternative name for machine learning.\n",
    "\n",
    "We can regard marchine learning as the art of integrating maths, programming and computer engineering. Machine learning is not a new field at all, but it is now a mainstream...(because of more affordable and powerful hardware, advances in theories, ...)"
   ]
  },
  {
   "cell_type": "markdown",
   "metadata": {},
   "source": [
    "For example, can we guess the **Type** of a Pokemon (accurately) if we know its **HP**, **Attack**, **Defense**, **Sp. Atk**, **Sp. Def** and **Speed**?"
   ]
  },
  {
   "cell_type": "code",
   "execution_count": null,
   "metadata": {},
   "outputs": [],
   "source": [
    "import pandas as pd\n",
    "\n",
    "pokemons = pd.read_csv(\"pokemon.csv\")\n",
    "pokemon = pokemons.iloc[9][['HP', 'Attack', 'Defense', 'Sp. Atk', 'Sp. Def', 'Speed']]\n",
    "pokemon\n",
    "\n",
    "# What is the Type 1 of this pokemen?"
   ]
  },
  {
   "cell_type": "markdown",
   "metadata": {},
   "source": [
    "### How is it related to artificial intelligence?\n",
    "Machine learning is not equivalent to artificial intelligence. It is an important component in artificial intelligence, and it is a way of achieving artifical intelligence.\n",
    "\n",
    "- Machine learning\n",
    "    - About training algorithms to model data\n",
    "    - e.g. teaching computers to recognise cats\n",
    "    - e.g. teaching computers to predict the outcome of Pokemon fight\n",
    "- Artificial intelligence\n",
    "    - About machines exhibiting some aspects of human intelligence\n",
    "    - e.g. using the learnt algorithms of recognising cats to count the number of cats on the street\n",
    "    - e.g. a Pokemon fight controller\n",
    " \n",
    "By the way, how should we define intelligence?"
   ]
  },
  {
   "cell_type": "markdown",
   "metadata": {},
   "source": [
    "## Typical Machine Learning Flow\n",
    "\n",
    "The typical machine learning flow usually consists of the follwing steps:\n",
    "1. Problem definition\n",
    "    - Hey, what do we want to achieve?\n",
    "    - What machine learning algorithms best suit for our purposes? We need to:\n",
    "        - Understand what the the problem is\n",
    "        - Understand the properties of the data\n",
    "        - Understand the properties of the existing algorithms, and/or design new algorithms\n",
    "2. Preparation of data (Data collection, cleansing, et cetera)\n",
    "    - Representative samples in the problem domain are collected, almost always cleaned, transformed into the desired formats, and sometimes lablled/tagged. They serve as the *training data*, *validation data*, and *test data* for us to train the machine learning algorithms. The three sets of data are ususally *disjoint*.\n",
    "3. Training\n",
    "    - A portion of the samples, which is known as training data, are presented to the learning algorithms. The learning algorithms are said to be trained using the given samples. The goal in this step is make the algorithms able to model the data (statistically) with the least errors.\n",
    "    - Another portion of the samples, known as validation data, is later used to evaluate the performance of the machine learning algorithms regularly and occasionally during training. From the evaluation results, we may be able to understand the suitability of the chosen learning algorithms as well as the parameters.\n",
    "4. Testing\n",
    "    -  Yet another portion of the samples, known as test data, is used to evalute the performance of the machine learning algorithms after the training.  The evaluation results are again to be analysed to improve the choice of learning algorithms and the parameters.\n",
    "\n",
    "*The above procedure is very often done not only once but re-iterated to obtain the best results.*\n",
    "\n",
    "Hey, the learning process does sound  a bit like what we have been doing since we were born! Learning from examples and errors is a commonly used technique in both human and machine learning."
   ]
  },
  {
   "cell_type": "markdown",
   "metadata": {},
   "source": [
    "| All Data |   |               |   |  |\n",
    "|----------|---|---------------|---|--|\n",
    "| ![All data](all-data.png) |=| |Training data ![Training data](training-data.png)|\n",
    "| ||+| Validation data ![Validation data](validation-data.png)|\n",
    "| ||+| Test data ![Test data](test-data.png)|"
   ]
  },
  {
   "cell_type": "markdown",
   "metadata": {},
   "source": [
    "It is all about learning from examples and errors using maths and programming!\n",
    "\n",
    "![People keep making the same mistake!](people-keep-making-the-same-mistake.jpg) "
   ]
  }
 ],
 "metadata": {
  "kernelspec": {
   "display_name": "Python 3",
   "language": "python",
   "name": "python3"
  },
  "language_info": {
   "codemirror_mode": {
    "name": "ipython",
    "version": 3
   },
   "file_extension": ".py",
   "mimetype": "text/x-python",
   "name": "python",
   "nbconvert_exporter": "python",
   "pygments_lexer": "ipython3",
   "version": "3.6.5"
  }
 },
 "nbformat": 4,
 "nbformat_minor": 2
}
