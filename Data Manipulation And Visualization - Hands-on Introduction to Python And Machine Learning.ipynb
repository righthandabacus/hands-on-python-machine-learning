{
 "cells": [
  {
   "cell_type": "markdown",
   "metadata": {},
   "source": [
    "# Hands-on Introduction to Python And Machine Learning"
   ]
  },
  {
   "cell_type": "markdown",
   "metadata": {},
   "source": [
    "Instructor: Tak-Kei Lam\n",
    "\n",
    "(Readers are assumed to have a little bit programming background.)"
   ]
  },
  {
   "cell_type": "markdown",
   "metadata": {},
   "source": [
    "It is often useful to visualise the data to get a better understanding about the properties. There are several very useful Python libraries for us to read/write and analyse the data, and to show the data:\n",
    "- [Numpy](http://www.numpy.org/)\n",
    "- [Pandas](https://pandas.pydata.org/)\n",
    "- [Matplotlib](https://matplotlib.org/)"
   ]
  },
  {
   "cell_type": "markdown",
   "metadata": {},
   "source": [
    "# Numpy\n",
    "> NumPy is the fundamental package for scientific computing with Python. It contains among other things:\n",
    ">\n",
    ">    - a powerful N-dimensional array object\n",
    ">    - sophisticated (broadcasting) functions\n",
    ">    - tools for integrating C/C++ and Fortran code\n",
    ">    - useful linear algebra, Fourier transform, and random number capabilities\n",
    ">\n",
    "> Besides its obvious scientific uses, NumPy can also be used as an efficient multi-dimensional container of generic data. Arbitrary data-types can >be defined. This allows NumPy to seamlessly and speedily integrate with a wide variety of databases.\n",
    ">\n",
    ">NumPy is licensed under the BSD license, enabling reuse with few restrictions."
   ]
  },
  {
   "cell_type": "markdown",
   "metadata": {},
   "source": [
    "If we want to multiply every element in an array by 2, how should we write the code?"
   ]
  },
  {
   "cell_type": "code",
   "execution_count": null,
   "metadata": {},
   "outputs": [],
   "source": [
    "data = [1, 2, 3, 4, 5]\n",
    "# it is natural for us to express our idea in this way, but does it work?\n",
    "data = data *2\n",
    "\n",
    "print('data is {}'.format(data))"
   ]
  },
  {
   "cell_type": "code",
   "execution_count": null,
   "metadata": {},
   "outputs": [],
   "source": [
    "import numpy as np\n",
    "\n",
    "# what if we use numpy array?\n",
    "data = [1, 2, 3, 4, 5]\n",
    "np_data = np.array(data)\n",
    "np_data = np_data *2\n",
    "\n",
    "print('data is {}'.format(np_data))"
   ]
  },
  {
   "cell_type": "markdown",
   "metadata": {},
   "source": [
    "Numpy can do many more things!"
   ]
  },
  {
   "cell_type": "code",
   "execution_count": null,
   "metadata": {},
   "outputs": [],
   "source": [
    "# multi dimensional\n",
    "\n",
    "data = [\n",
    "    [[1,2, 3], [4, 5, 6]],\n",
    "    [[7,8, 9], [10, 11, 12]]\n",
    "       ]\n",
    "\n",
    "data = np.array(data)\n",
    "data =  data * 2\n",
    "print(data)"
   ]
  },
  {
   "cell_type": "code",
   "execution_count": null,
   "metadata": {},
   "outputs": [],
   "source": [
    "# multi dimensional\n",
    "\n",
    "data = [\n",
    "    [[1,2, 3], [4, 5, 6]],\n",
    "    [[7,8, 9], [10, 11, 12]]\n",
    "       ]\n",
    "\n",
    "data = np.array(data)\n",
    "print('data[0][1][1]: {}'.format(data[0][1][1]))\n",
    "\n",
    "print('data[:1] : ')\n",
    "print(data[:1])\n",
    "\n",
    "print('data.transpose():')\n",
    "print(data.transpose())\n",
    "\n",
    "print('data\\'.shape')\n",
    "print(data.shape)"
   ]
  },
  {
   "cell_type": "code",
   "execution_count": null,
   "metadata": {},
   "outputs": [],
   "source": [
    "print(np.zeros( (3,4) ))\n",
    "\n",
    "print(np.ones( (2,3,4)) )"
   ]
  },
  {
   "cell_type": "code",
   "execution_count": null,
   "metadata": {},
   "outputs": [],
   "source": [
    "# reshaping\n",
    "np.arange(12).reshape(4,3)  "
   ]
  },
  {
   "cell_type": "code",
   "execution_count": null,
   "metadata": {},
   "outputs": [],
   "source": [
    "# number generation\n",
    "\n",
    "# generate 50 random integers\n",
    "v = np.random.randint(low=10, high=13, size=50)\n",
    "print(v)\n",
    "\n",
    "# generate 50 numbers from a normal (Gaussian) distribution\n",
    "mu, sigma = 2, 0.5 # mean, standard deviation\n",
    "v = np.random.normal(mu,sigma,50)\n",
    "print(v)"
   ]
  },
  {
   "cell_type": "markdown",
   "metadata": {},
   "source": [
    "# Pandas\n",
    ">*pandas* is an open source, BSD-licensed library providing high-performance, easy-to-use data structures and data analysis tools for the Python programming language.\n",
    "\n",
    "> Python has long been great for data munging and preparation, but less so for data analysis and modeling. pandas helps fill this gap, enabling you to carry out your entire data analysis workflow in Python without having to switch to a more domain specific language like R.\n",
    "\n",
    "The main data structures in pandas are *series\" and *dataframe*. \n",
    "\n",
    "Series is officially defined as follows:\n",
    "> Series is a one-dimensional labeled array capable of holding any data type (integers, strings, floating point numbers, Python objects, etc.). The axis labels are collectively referred to as the *index*. \n",
    "\n",
    "Dataframe:\n",
    "> DataFrame is a 2-dimensional labeled data structure with columns of potentially different types. You can think of it like a spreadsheet or SQL table, or a dict of Series objects. It is generally the most commonly used pandas object. \n",
    "\n",
    "pandas can simply achieve what a spreadsheet can do; and many more."
   ]
  },
  {
   "cell_type": "code",
   "execution_count": null,
   "metadata": {},
   "outputs": [],
   "source": [
    "import pandas as pd\n",
    "\n",
    "# wrap a Numpy  array, and give a label to each of the data point\n",
    "v = pd.Series(np.random.randint(low=10, high=13, size=5), index=['a', 'b', 'c', 'd', 'e'])\n",
    "print(type(v)) # print the type of v\n",
    "print(v) # print the content of v\n",
    "\n",
    "# instead of accessing the array by index, now we can access the Series by label. Yay!\n",
    "print(v['b'])"
   ]
  },
  {
   "cell_type": "code",
   "execution_count": null,
   "metadata": {},
   "outputs": [],
   "source": [
    "# we can also wrap a dictionary into a pandas's Series\n",
    "v = pd.Series({'a':1, 'b':2, 'c':3})\n",
    "print(v)\n"
   ]
  },
  {
   "cell_type": "code",
   "execution_count": null,
   "metadata": {},
   "outputs": [],
   "source": [
    "# pandas's Series has similar behaviours as Numpy's array\n",
    "# we can also wrap a dictionary into a pandas's Series\n",
    "v = pd.Series({'a':1, 'b':2, 'c':3})\n",
    "print(v)\n",
    "\n",
    "v =  v * 2\n",
    "print(v)\n"
   ]
  },
  {
   "cell_type": "code",
   "execution_count": null,
   "metadata": {},
   "outputs": [],
   "source": [
    "# let's go 2D!\n",
    "\n",
    "d = [[1, 2], [3, 4], [5, 6]]\n",
    "v = pd.DataFrame(d)\n",
    "v\n",
    "\n",
    "#does it look good?"
   ]
  },
  {
   "cell_type": "code",
   "execution_count": null,
   "metadata": {},
   "outputs": [],
   "source": [
    "v =pd.DataFrame(d, index=['a', 'b', 'c'])\n",
    "v"
   ]
  },
  {
   "cell_type": "code",
   "execution_count": null,
   "metadata": {},
   "outputs": [],
   "source": [
    "# selecting rows\n",
    "v =pd.DataFrame(d, index=['a', 'b', 'c'])\n",
    "v.loc[['a', 'c']]"
   ]
  },
  {
   "cell_type": "code",
   "execution_count": null,
   "metadata": {},
   "outputs": [],
   "source": [
    "# selecting columns\n",
    "v =pd.DataFrame(d, index=['a', 'b', 'c'])\n",
    "v[0]"
   ]
  },
  {
   "cell_type": "code",
   "execution_count": null,
   "metadata": {},
   "outputs": [],
   "source": [
    "# selecting rows and columns\n",
    "v =pd.DataFrame(d, index=['a', 'b', 'c'])\n",
    "v.loc[['a', 'c']][1]"
   ]
  },
  {
   "cell_type": "code",
   "execution_count": null,
   "metadata": {},
   "outputs": [],
   "source": [
    "# we can also give names to the columns\n",
    "v =pd.DataFrame(d, index=['a', 'b', 'c'], columns=['x', 'y'])\n",
    "\n",
    "print(v.loc[['a', 'c']]['y'])\n",
    "\n",
    "print(v['y'].loc[['a', 'c']])"
   ]
  },
  {
   "cell_type": "code",
   "execution_count": null,
   "metadata": {},
   "outputs": [],
   "source": [
    "v =pd.DataFrame(d, index=['a', 'b', 'c'], columns=['x', 'y'])\n",
    "print(v)\n",
    "\n",
    "# get a summary of the data in one line\n",
    "v.describe()"
   ]
  },
  {
   "cell_type": "code",
   "execution_count": null,
   "metadata": {},
   "outputs": [],
   "source": [
    "# pandas supports SQL-joins\n",
    "table1 = [[0, 0, 1], [0, 1, 0], [1, 0, 0]]\n",
    "table1 = pd.DataFrame(table1, columns=['a','b','c'])\n",
    "print(table1)\n",
    "\n",
    "table2 = [[1, 0, 1], [1, 1, 0], [1, 0, 0]]\n",
    "table2 = pd.DataFrame(table2, columns=['a','b','c'])\n",
    "print(table2)\n",
    "\n",
    "table3 = pd.merge(table1, table2, how='inner', on=['a', 'c'])\n",
    "table3"
   ]
  },
  {
   "cell_type": "markdown",
   "metadata": {},
   "source": [
    "Besides data manipulation, pandas supports reading from and writing to CSV text file:"
   ]
  },
  {
   "cell_type": "code",
   "execution_count": null,
   "metadata": {},
   "outputs": [],
   "source": [
    "pokemons = pd.read_csv('pokemon.csv')\n",
    "pokemons.to_csv('pokemon2.csv')\n",
    "pokemons"
   ]
  },
  {
   "cell_type": "markdown",
   "metadata": {},
   "source": [
    "# Matplotlib\n",
    "> Matplotlib is a Python 2D plotting library which produces publication quality figures in a variety of hardcopy formats and interactive environments across platforms. Matplotlib can be used in Python scripts, the Python and IPython shells, the Jupyter notebook, web application servers, and four graphical user interface toolkits."
   ]
  },
  {
   "cell_type": "markdown",
   "metadata": {},
   "source": [
    "It is a library that tries to port a ploting library in Matlab into Python. Its functions are easy to use: pretty graphs can be plotted using only several lines of code. "
   ]
  },
  {
   "cell_type": "markdown",
   "metadata": {},
   "source": [
    "The plotting functions generally have the following formats:\n",
    "<code>\n",
    "plot(x array, y, array, options)\n",
    "</code>"
   ]
  },
  {
   "cell_type": "code",
   "execution_count": null,
   "metadata": {},
   "outputs": [],
   "source": [
    "import matplotlib.pyplot as plt\n",
    "\n",
    "x = np.array([1,2, 3])\n",
    "y = np.array([3, 2, 1])\n",
    "\n",
    "plt.figure(figsize=(5, 4), dpi=100)\n",
    "\n",
    "plt.plot(x, y)\n",
    "plt.xlabel('x')\n",
    "plt.ylabel('y')"
   ]
  },
  {
   "cell_type": "markdown",
   "metadata": {},
   "source": [
    "How about drawing two graphs side by side? We can use <code>subplot</code>."
   ]
  },
  {
   "cell_type": "code",
   "execution_count": null,
   "metadata": {},
   "outputs": [],
   "source": [
    "import matplotlib.pyplot as plt\n",
    "\n",
    "x = np.array([1,2, 3])\n",
    "y = np.array([1, 1, 1])\n",
    "\n",
    "plt.figure(figsize=(8, 4), dpi=100)\n",
    "plt.subplot (1, 2, 1) # number of rows, number of columns,  current index\n",
    "plt.plot(x, y)\n",
    "plt.xlabel('x')\n",
    "plt.ylabel('y')\n",
    "plt.title('y against x')\n",
    "\n",
    "plt.subplot(1, 2, 2)\n",
    "plt.plot(y, x)\n",
    "plt.xlabel('y')\n",
    "plt.ylabel('x')\n",
    "plt.title('x against y')\n",
    "\n",
    "plt.tight_layout() # adjust the layout automatically to achieve the best fit"
   ]
  },
  {
   "cell_type": "markdown",
   "metadata": {},
   "source": [
    "Besides line, there are many other graph types available in Matplotlib."
   ]
  }
 ],
 "metadata": {
  "kernelspec": {
   "display_name": "Python 3",
   "language": "python",
   "name": "python3"
  },
  "language_info": {
   "codemirror_mode": {
    "name": "ipython",
    "version": 3
   },
   "file_extension": ".py",
   "mimetype": "text/x-python",
   "name": "python",
   "nbconvert_exporter": "python",
   "pygments_lexer": "ipython3",
   "version": "3.6.5"
  }
 },
 "nbformat": 4,
 "nbformat_minor": 2
}
