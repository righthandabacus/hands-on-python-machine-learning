{
 "cells": [
  {
   "cell_type": "markdown",
   "metadata": {},
   "source": [
    "# Hands-on Introduction to Python And Machine Learning"
   ]
  },
  {
   "cell_type": "markdown",
   "metadata": {},
   "source": [
    "Instructor: Tak-Kei Lam\n",
    "\n",
    "(Readers are assumed to have a little bit programming background.)\n"
   ]
  },
  {
   "cell_type": "markdown",
   "metadata": {},
   "source": [
    "# Machine Learning Algorithms"
   ]
  },
  {
   "cell_type": "markdown",
   "metadata": {},
   "source": [
    "There are many machine learning algorithms. They can be categorized according to various characterics of the machine learning algorithms. It is important to understand the properties of the machine learning algorithms so that the most suitable algorithms can be applied to solve the target problems.\n",
    "\n",
    "Among the categorization factors, the learning style of machine learning algorithms is probably one of the most important factor. There are two learning styles, namely:\n",
    "- Supervised learning, and\n",
    "- Unsupervised learning"
   ]
  },
  {
   "cell_type": "markdown",
   "metadata": {},
   "source": [
    "## 1. Supervised Machine Learning\n",
    "\n",
    "Supervised machine learning is about transferring knowledge from human to machine.  Training data is *labelled*, which means we tell the learning algorithms the classes the data belong explicitly.\n",
    "\n",
    "For instances:\n",
    " 1. Tell the machine learning algorithms the **Type**, **HP**, **Attack**, **Defense**, **Sp. Atk**, **Sp. Def** and **Speed** of all available Pokemon samples\n",
    " 2. Train the algorithms to classify a *new* Pokemon if its **HP**, **Attack**, **Defense**, **Sp. Atk**, **Sp. Def** and **Speed**  are known\n",
    " 3. Or, train the algorithms to estimate **HP**, **Attack**, **Defense**, **Sp. Atk**, **Sp. Def** and **Speed** if **Type** is given"
   ]
  },
  {
   "cell_type": "markdown",
   "metadata": {},
   "source": [
    "What is the expected Type of the unseen Pokemon in the below figure? Other data are already labelled.\n",
    "![Supervised machine learning](data-visualization-supervised.png)"
   ]
  },
  {
   "cell_type": "markdown",
   "metadata": {},
   "source": [
    "## 2. Unsupervised Machine Learning\n",
    "\n",
    "Unsupervised machine learning is about letting the learning algorithms to \"figure out something\" themselves.  Training data is not labelled. Prior knowledge in the problem domain from human is often supplied to the algorithm to make it work, and work better.\n",
    "\n",
    "For instances:\n",
    " 1. Tell the machine learning algorithms the **HP**, **Attack**, **Defense**, **Sp. Atk**, **Sp. Def** and **Speed** of all available Pokemon samples\n",
    " 2. Train the algorithms to classify the Pokemons automatically (deduce **Type** for each Pokemon)"
   ]
  },
  {
   "cell_type": "markdown",
   "metadata": {},
   "source": [
    "The below figure shows different views of some 3-dimensional data. All the dots are not lablled. They are coloured just for the sake of clarity. In this unsupervised maching learning example, we want to categorize the data without (or very little) prior knowledge.\n",
    "![Unsupervised machine learning](data-visualization-unsupervised.png)"
   ]
  },
  {
   "cell_type": "markdown",
   "metadata": {},
   "source": [
    "Besides supervised VS. unsupervised, we can also classify machine learning algorithms according to another aspect of their learning styles: the underlying mechanism. We can also say (un)supervised machine learning algorithms can further be classiified into sub-groups of machine learning algorithms based on how they work."
   ]
  }
 ],
 "metadata": {
  "kernelspec": {
   "display_name": "Python 3",
   "language": "python",
   "name": "python3"
  },
  "language_info": {
   "codemirror_mode": {
    "name": "ipython",
    "version": 3
   },
   "file_extension": ".py",
   "mimetype": "text/x-python",
   "name": "python",
   "nbconvert_exporter": "python",
   "pygments_lexer": "ipython3",
   "version": "3.6.5"
  }
 },
 "nbformat": 4,
 "nbformat_minor": 2
}
